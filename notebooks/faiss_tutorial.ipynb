{
 "cells": [
  {
   "cell_type": "code",
   "execution_count": 2,
   "id": "c9493399",
   "metadata": {},
   "outputs": [
    {
     "name": "stdout",
     "output_type": "stream",
     "text": [
      "Collecting faiss-cpu\n",
      "  Downloading faiss_cpu-1.8.0.post1-cp312-cp312-win_amd64.whl.metadata (3.8 kB)\n",
      "Requirement already satisfied: numpy<2.0,>=1.0 in c:\\users\\durge\\anaconda3\\lib\\site-packages (from faiss-cpu) (1.26.4)\n",
      "Requirement already satisfied: packaging in c:\\users\\durge\\appdata\\roaming\\python\\python312\\site-packages (from faiss-cpu) (24.1)\n",
      "Downloading faiss_cpu-1.8.0.post1-cp312-cp312-win_amd64.whl (14.6 MB)\n",
      "   ---------------------------------------- 0.0/14.6 MB ? eta -:--:--\n",
      "   ---------------------------------------- 0.0/14.6 MB ? eta -:--:--\n",
      "   ---------------------------------------- 0.0/14.6 MB 495.5 kB/s eta 0:00:30\n",
      "   ---------------------------------------- 0.1/14.6 MB 1.1 MB/s eta 0:00:14\n",
      "    --------------------------------------- 0.2/14.6 MB 1.4 MB/s eta 0:00:10\n",
      "    --------------------------------------- 0.2/14.6 MB 1.4 MB/s eta 0:00:10\n",
      "   - -------------------------------------- 0.5/14.6 MB 2.1 MB/s eta 0:00:07\n",
      "   - -------------------------------------- 0.7/14.6 MB 2.1 MB/s eta 0:00:07\n",
      "   -- ------------------------------------- 0.9/14.6 MB 2.5 MB/s eta 0:00:06\n",
      "   -- ------------------------------------- 1.1/14.6 MB 2.6 MB/s eta 0:00:06\n",
      "   --- ------------------------------------ 1.3/14.6 MB 2.8 MB/s eta 0:00:05\n",
      "   ---- ----------------------------------- 1.5/14.6 MB 3.0 MB/s eta 0:00:05\n",
      "   ---- ----------------------------------- 1.7/14.6 MB 3.1 MB/s eta 0:00:05\n",
      "   ----- ---------------------------------- 1.9/14.6 MB 3.2 MB/s eta 0:00:04\n",
      "   ----- ---------------------------------- 2.0/14.6 MB 3.3 MB/s eta 0:00:04\n",
      "   ------ --------------------------------- 2.2/14.6 MB 3.2 MB/s eta 0:00:04\n",
      "   ------ --------------------------------- 2.3/14.6 MB 3.2 MB/s eta 0:00:04\n",
      "   ------ --------------------------------- 2.5/14.6 MB 3.2 MB/s eta 0:00:04\n",
      "   ------- -------------------------------- 2.6/14.6 MB 3.2 MB/s eta 0:00:04\n",
      "   ------- -------------------------------- 2.8/14.6 MB 3.2 MB/s eta 0:00:04\n",
      "   -------- ------------------------------- 3.0/14.6 MB 3.3 MB/s eta 0:00:04\n",
      "   -------- ------------------------------- 3.1/14.6 MB 3.2 MB/s eta 0:00:04\n",
      "   -------- ------------------------------- 3.2/14.6 MB 3.2 MB/s eta 0:00:04\n",
      "   --------- ------------------------------ 3.5/14.6 MB 3.3 MB/s eta 0:00:04\n",
      "   ---------- ----------------------------- 3.7/14.6 MB 3.3 MB/s eta 0:00:04\n",
      "   ---------- ----------------------------- 3.8/14.6 MB 3.4 MB/s eta 0:00:04\n",
      "   ----------- ---------------------------- 4.1/14.6 MB 3.4 MB/s eta 0:00:04\n",
      "   ----------- ---------------------------- 4.1/14.6 MB 3.3 MB/s eta 0:00:04\n",
      "   ----------- ---------------------------- 4.2/14.6 MB 3.3 MB/s eta 0:00:04\n",
      "   ----------- ---------------------------- 4.3/14.6 MB 3.2 MB/s eta 0:00:04\n",
      "   ------------ --------------------------- 4.7/14.6 MB 3.4 MB/s eta 0:00:03\n",
      "   ------------- -------------------------- 4.8/14.6 MB 3.4 MB/s eta 0:00:03\n",
      "   ------------- -------------------------- 5.0/14.6 MB 3.3 MB/s eta 0:00:03\n",
      "   -------------- ------------------------- 5.1/14.6 MB 3.4 MB/s eta 0:00:03\n",
      "   -------------- ------------------------- 5.3/14.6 MB 3.4 MB/s eta 0:00:03\n",
      "   -------------- ------------------------- 5.4/14.6 MB 3.3 MB/s eta 0:00:03\n",
      "   --------------- ------------------------ 5.6/14.6 MB 3.4 MB/s eta 0:00:03\n",
      "   --------------- ------------------------ 5.8/14.6 MB 3.4 MB/s eta 0:00:03\n",
      "   ---------------- ----------------------- 5.9/14.6 MB 3.4 MB/s eta 0:00:03\n",
      "   ---------------- ----------------------- 6.1/14.6 MB 3.4 MB/s eta 0:00:03\n",
      "   ----------------- ---------------------- 6.2/14.6 MB 3.4 MB/s eta 0:00:03\n",
      "   ----------------- ---------------------- 6.3/14.6 MB 3.4 MB/s eta 0:00:03\n",
      "   ------------------ --------------------- 6.6/14.6 MB 3.4 MB/s eta 0:00:03\n",
      "   ------------------ --------------------- 6.7/14.6 MB 3.3 MB/s eta 0:00:03\n",
      "   ------------------ --------------------- 6.7/14.6 MB 3.3 MB/s eta 0:00:03\n",
      "   ------------------ --------------------- 6.9/14.6 MB 3.3 MB/s eta 0:00:03\n",
      "   ------------------- -------------------- 7.0/14.6 MB 3.3 MB/s eta 0:00:03\n",
      "   ------------------- -------------------- 7.1/14.6 MB 3.3 MB/s eta 0:00:03\n",
      "   ------------------- -------------------- 7.3/14.6 MB 3.2 MB/s eta 0:00:03\n",
      "   -------------------- ------------------- 7.5/14.6 MB 3.2 MB/s eta 0:00:03\n",
      "   -------------------- ------------------- 7.5/14.6 MB 3.2 MB/s eta 0:00:03\n",
      "   --------------------- ------------------ 7.7/14.6 MB 3.2 MB/s eta 0:00:03\n",
      "   --------------------- ------------------ 7.9/14.6 MB 3.2 MB/s eta 0:00:03\n",
      "   ---------------------- ----------------- 8.0/14.6 MB 3.2 MB/s eta 0:00:03\n",
      "   ---------------------- ----------------- 8.2/14.6 MB 3.2 MB/s eta 0:00:03\n",
      "   ---------------------- ----------------- 8.3/14.6 MB 3.2 MB/s eta 0:00:02\n",
      "   ----------------------- ---------------- 8.4/14.6 MB 3.2 MB/s eta 0:00:02\n",
      "   ----------------------- ---------------- 8.6/14.6 MB 3.2 MB/s eta 0:00:02\n",
      "   ----------------------- ---------------- 8.7/14.6 MB 3.1 MB/s eta 0:00:02\n",
      "   ----------------------- ---------------- 8.7/14.6 MB 3.1 MB/s eta 0:00:02\n",
      "   ----------------------- ---------------- 8.7/14.6 MB 3.1 MB/s eta 0:00:02\n",
      "   ------------------------ --------------- 9.0/14.6 MB 3.1 MB/s eta 0:00:02\n",
      "   ------------------------ --------------- 9.1/14.6 MB 3.1 MB/s eta 0:00:02\n",
      "   ------------------------- -------------- 9.1/14.6 MB 3.0 MB/s eta 0:00:02\n",
      "   ------------------------- -------------- 9.2/14.6 MB 3.0 MB/s eta 0:00:02\n",
      "   ------------------------- -------------- 9.3/14.6 MB 3.0 MB/s eta 0:00:02\n",
      "   ------------------------- -------------- 9.4/14.6 MB 3.0 MB/s eta 0:00:02\n",
      "   ------------------------- -------------- 9.5/14.6 MB 3.0 MB/s eta 0:00:02\n",
      "   -------------------------- ------------- 9.6/14.6 MB 3.0 MB/s eta 0:00:02\n",
      "   -------------------------- ------------- 9.6/14.6 MB 2.9 MB/s eta 0:00:02\n",
      "   -------------------------- ------------- 9.7/14.6 MB 2.9 MB/s eta 0:00:02\n",
      "   -------------------------- ------------- 9.8/14.6 MB 2.9 MB/s eta 0:00:02\n",
      "   --------------------------- ------------ 9.9/14.6 MB 2.9 MB/s eta 0:00:02\n",
      "   --------------------------- ------------ 10.0/14.6 MB 2.9 MB/s eta 0:00:02\n",
      "   --------------------------- ------------ 10.0/14.6 MB 2.8 MB/s eta 0:00:02\n",
      "   --------------------------- ------------ 10.1/14.6 MB 2.8 MB/s eta 0:00:02\n",
      "   --------------------------- ------------ 10.1/14.6 MB 2.8 MB/s eta 0:00:02\n",
      "   --------------------------- ------------ 10.2/14.6 MB 2.8 MB/s eta 0:00:02\n",
      "   ---------------------------- ----------- 10.2/14.6 MB 2.8 MB/s eta 0:00:02\n",
      "   ---------------------------- ----------- 10.3/14.6 MB 2.8 MB/s eta 0:00:02\n",
      "   ---------------------------- ----------- 10.4/14.6 MB 2.8 MB/s eta 0:00:02\n",
      "   ---------------------------- ----------- 10.4/14.6 MB 2.8 MB/s eta 0:00:02\n",
      "   ---------------------------- ----------- 10.5/14.6 MB 2.8 MB/s eta 0:00:02\n",
      "   ---------------------------- ----------- 10.5/14.6 MB 2.8 MB/s eta 0:00:02\n",
      "   ----------------------------- ---------- 10.6/14.6 MB 2.7 MB/s eta 0:00:02\n",
      "   ----------------------------- ---------- 10.7/14.6 MB 2.7 MB/s eta 0:00:02\n",
      "   ----------------------------- ---------- 10.7/14.6 MB 2.7 MB/s eta 0:00:02\n",
      "   ----------------------------- ---------- 10.8/14.6 MB 2.7 MB/s eta 0:00:02\n",
      "   ----------------------------- ---------- 10.9/14.6 MB 2.7 MB/s eta 0:00:02\n",
      "   ------------------------------ --------- 11.0/14.6 MB 2.6 MB/s eta 0:00:02\n",
      "   ------------------------------ --------- 11.0/14.6 MB 2.6 MB/s eta 0:00:02\n",
      "   ------------------------------ --------- 11.1/14.6 MB 2.6 MB/s eta 0:00:02\n",
      "   ------------------------------ --------- 11.2/14.6 MB 2.6 MB/s eta 0:00:02\n",
      "   ------------------------------ --------- 11.3/14.6 MB 2.6 MB/s eta 0:00:02\n",
      "   ------------------------------- -------- 11.3/14.6 MB 2.5 MB/s eta 0:00:02\n",
      "   ------------------------------- -------- 11.4/14.6 MB 2.5 MB/s eta 0:00:02\n",
      "   ------------------------------- -------- 11.5/14.6 MB 2.5 MB/s eta 0:00:02\n",
      "   ------------------------------- -------- 11.6/14.6 MB 2.5 MB/s eta 0:00:02\n",
      "   ------------------------------- -------- 11.6/14.6 MB 2.5 MB/s eta 0:00:02\n",
      "   -------------------------------- ------- 11.7/14.6 MB 2.5 MB/s eta 0:00:02\n",
      "   -------------------------------- ------- 11.8/14.6 MB 2.4 MB/s eta 0:00:02\n",
      "   -------------------------------- ------- 11.8/14.6 MB 2.4 MB/s eta 0:00:02\n",
      "   -------------------------------- ------- 11.9/14.6 MB 2.4 MB/s eta 0:00:02\n",
      "   -------------------------------- ------- 12.0/14.6 MB 2.4 MB/s eta 0:00:02\n",
      "   --------------------------------- ------ 12.1/14.6 MB 2.4 MB/s eta 0:00:02\n",
      "   --------------------------------- ------ 12.2/14.6 MB 2.3 MB/s eta 0:00:02\n",
      "   --------------------------------- ------ 12.2/14.6 MB 2.4 MB/s eta 0:00:01\n",
      "   --------------------------------- ------ 12.3/14.6 MB 2.3 MB/s eta 0:00:01\n",
      "   ---------------------------------- ----- 12.4/14.6 MB 2.3 MB/s eta 0:00:01\n",
      "   ---------------------------------- ----- 12.5/14.6 MB 2.3 MB/s eta 0:00:01\n",
      "   ---------------------------------- ----- 12.6/14.6 MB 2.3 MB/s eta 0:00:01\n",
      "   ---------------------------------- ----- 12.7/14.6 MB 2.3 MB/s eta 0:00:01\n",
      "   ---------------------------------- ----- 12.8/14.6 MB 2.3 MB/s eta 0:00:01\n",
      "   ----------------------------------- ---- 12.8/14.6 MB 2.3 MB/s eta 0:00:01\n",
      "   ----------------------------------- ---- 12.9/14.6 MB 2.2 MB/s eta 0:00:01\n",
      "   ----------------------------------- ---- 13.0/14.6 MB 2.2 MB/s eta 0:00:01\n",
      "   ----------------------------------- ---- 13.1/14.6 MB 2.2 MB/s eta 0:00:01\n",
      "   ------------------------------------ --- 13.2/14.6 MB 2.2 MB/s eta 0:00:01\n",
      "   ------------------------------------ --- 13.3/14.6 MB 2.2 MB/s eta 0:00:01\n",
      "   ------------------------------------ --- 13.3/14.6 MB 2.2 MB/s eta 0:00:01\n",
      "   ------------------------------------ --- 13.4/14.6 MB 2.2 MB/s eta 0:00:01\n",
      "   ------------------------------------- -- 13.5/14.6 MB 2.2 MB/s eta 0:00:01\n",
      "   ------------------------------------- -- 13.6/14.6 MB 2.2 MB/s eta 0:00:01\n",
      "   ------------------------------------- -- 13.7/14.6 MB 2.2 MB/s eta 0:00:01\n",
      "   ------------------------------------- -- 13.7/14.6 MB 2.2 MB/s eta 0:00:01\n",
      "   ------------------------------------- -- 13.9/14.6 MB 2.1 MB/s eta 0:00:01\n",
      "   -------------------------------------- - 13.9/14.6 MB 2.1 MB/s eta 0:00:01\n",
      "   -------------------------------------- - 14.0/14.6 MB 2.1 MB/s eta 0:00:01\n",
      "   -------------------------------------- - 14.1/14.6 MB 2.1 MB/s eta 0:00:01\n",
      "   ---------------------------------------  14.2/14.6 MB 2.1 MB/s eta 0:00:01\n",
      "   ---------------------------------------  14.3/14.6 MB 2.1 MB/s eta 0:00:01\n",
      "   ---------------------------------------  14.4/14.6 MB 2.1 MB/s eta 0:00:01\n",
      "   ---------------------------------------  14.5/14.6 MB 2.1 MB/s eta 0:00:01\n",
      "   ---------------------------------------  14.6/14.6 MB 2.1 MB/s eta 0:00:01\n",
      "   ---------------------------------------  14.6/14.6 MB 2.1 MB/s eta 0:00:01\n",
      "   ---------------------------------------- 14.6/14.6 MB 2.1 MB/s eta 0:00:00\n",
      "Installing collected packages: faiss-cpu\n",
      "Successfully installed faiss-cpu-1.8.0.post1\n",
      "Collecting sentence-transformers\n",
      "  Downloading sentence_transformers-3.1.1-py3-none-any.whl.metadata (10 kB)\n",
      "Requirement already satisfied: transformers<5.0.0,>=4.38.0 in c:\\users\\durge\\anaconda3\\lib\\site-packages (from sentence-transformers) (4.44.2)\n",
      "Requirement already satisfied: tqdm in c:\\users\\durge\\anaconda3\\lib\\site-packages (from sentence-transformers) (4.66.4)\n",
      "Requirement already satisfied: torch>=1.11.0 in c:\\users\\durge\\anaconda3\\lib\\site-packages (from sentence-transformers) (2.4.1)\n",
      "Requirement already satisfied: scikit-learn in c:\\users\\durge\\anaconda3\\lib\\site-packages (from sentence-transformers) (1.4.2)\n",
      "Requirement already satisfied: scipy in c:\\users\\durge\\anaconda3\\lib\\site-packages (from sentence-transformers) (1.13.1)\n",
      "Requirement already satisfied: huggingface-hub>=0.19.3 in c:\\users\\durge\\anaconda3\\lib\\site-packages (from sentence-transformers) (0.24.7)\n",
      "Requirement already satisfied: Pillow in c:\\users\\durge\\anaconda3\\lib\\site-packages (from sentence-transformers) (10.3.0)\n",
      "Requirement already satisfied: filelock in c:\\users\\durge\\anaconda3\\lib\\site-packages (from huggingface-hub>=0.19.3->sentence-transformers) (3.13.1)\n",
      "Requirement already satisfied: fsspec>=2023.5.0 in c:\\users\\durge\\anaconda3\\lib\\site-packages (from huggingface-hub>=0.19.3->sentence-transformers) (2024.3.1)\n",
      "Requirement already satisfied: packaging>=20.9 in c:\\users\\durge\\appdata\\roaming\\python\\python312\\site-packages (from huggingface-hub>=0.19.3->sentence-transformers) (24.1)\n",
      "Requirement already satisfied: pyyaml>=5.1 in c:\\users\\durge\\anaconda3\\lib\\site-packages (from huggingface-hub>=0.19.3->sentence-transformers) (6.0.1)\n",
      "Requirement already satisfied: requests in c:\\users\\durge\\anaconda3\\lib\\site-packages (from huggingface-hub>=0.19.3->sentence-transformers) (2.32.2)\n",
      "Requirement already satisfied: typing-extensions>=3.7.4.3 in c:\\users\\durge\\anaconda3\\lib\\site-packages (from huggingface-hub>=0.19.3->sentence-transformers) (4.11.0)\n",
      "Requirement already satisfied: sympy in c:\\users\\durge\\anaconda3\\lib\\site-packages (from torch>=1.11.0->sentence-transformers) (1.12)\n",
      "Requirement already satisfied: networkx in c:\\users\\durge\\anaconda3\\lib\\site-packages (from torch>=1.11.0->sentence-transformers) (3.2.1)\n",
      "Requirement already satisfied: jinja2 in c:\\users\\durge\\anaconda3\\lib\\site-packages (from torch>=1.11.0->sentence-transformers) (3.1.4)\n",
      "Requirement already satisfied: setuptools in c:\\users\\durge\\anaconda3\\lib\\site-packages (from torch>=1.11.0->sentence-transformers) (69.5.1)\n",
      "Requirement already satisfied: colorama in c:\\users\\durge\\appdata\\roaming\\python\\python312\\site-packages (from tqdm->sentence-transformers) (0.4.6)\n",
      "Requirement already satisfied: numpy>=1.17 in c:\\users\\durge\\anaconda3\\lib\\site-packages (from transformers<5.0.0,>=4.38.0->sentence-transformers) (1.26.4)\n",
      "Requirement already satisfied: regex!=2019.12.17 in c:\\users\\durge\\anaconda3\\lib\\site-packages (from transformers<5.0.0,>=4.38.0->sentence-transformers) (2023.10.3)\n",
      "Requirement already satisfied: safetensors>=0.4.1 in c:\\users\\durge\\anaconda3\\lib\\site-packages (from transformers<5.0.0,>=4.38.0->sentence-transformers) (0.4.5)\n",
      "Requirement already satisfied: tokenizers<0.20,>=0.19 in c:\\users\\durge\\anaconda3\\lib\\site-packages (from transformers<5.0.0,>=4.38.0->sentence-transformers) (0.19.1)\n",
      "Requirement already satisfied: joblib>=1.2.0 in c:\\users\\durge\\anaconda3\\lib\\site-packages (from scikit-learn->sentence-transformers) (1.4.2)\n",
      "Requirement already satisfied: threadpoolctl>=2.0.0 in c:\\users\\durge\\anaconda3\\lib\\site-packages (from scikit-learn->sentence-transformers) (2.2.0)\n",
      "Requirement already satisfied: MarkupSafe>=2.0 in c:\\users\\durge\\anaconda3\\lib\\site-packages (from jinja2->torch>=1.11.0->sentence-transformers) (2.1.3)\n",
      "Requirement already satisfied: charset-normalizer<4,>=2 in c:\\users\\durge\\anaconda3\\lib\\site-packages (from requests->huggingface-hub>=0.19.3->sentence-transformers) (3.3.2)\n",
      "Requirement already satisfied: idna<4,>=2.5 in c:\\users\\durge\\anaconda3\\lib\\site-packages (from requests->huggingface-hub>=0.19.3->sentence-transformers) (3.7)\n",
      "Requirement already satisfied: urllib3<3,>=1.21.1 in c:\\users\\durge\\anaconda3\\lib\\site-packages (from requests->huggingface-hub>=0.19.3->sentence-transformers) (2.2.2)\n",
      "Requirement already satisfied: certifi>=2017.4.17 in c:\\users\\durge\\anaconda3\\lib\\site-packages (from requests->huggingface-hub>=0.19.3->sentence-transformers) (2024.8.30)\n",
      "Requirement already satisfied: mpmath>=0.19 in c:\\users\\durge\\anaconda3\\lib\\site-packages (from sympy->torch>=1.11.0->sentence-transformers) (1.3.0)\n",
      "Downloading sentence_transformers-3.1.1-py3-none-any.whl (245 kB)\n",
      "   ---------------------------------------- 0.0/245.3 kB ? eta -:--:--\n",
      "   - -------------------------------------- 10.2/245.3 kB ? eta -:--:--\n",
      "   --------- ----------------------------- 61.4/245.3 kB 648.1 kB/s eta 0:00:01\n",
      "   ----------------------- ---------------- 143.4/245.3 kB 1.1 MB/s eta 0:00:01\n",
      "   ---------------------------------------- 245.3/245.3 kB 1.4 MB/s eta 0:00:00\n",
      "Installing collected packages: sentence-transformers\n",
      "Successfully installed sentence-transformers-3.1.1\n"
     ]
    }
   ],
   "source": [
    "#Install Packages\n",
    "!pip install faiss-cpu\n",
    "!pip install sentence-transformers"
   ]
  },
  {
   "cell_type": "code",
   "execution_count": 4,
   "id": "c49be142",
   "metadata": {},
   "outputs": [],
   "source": [
    "# import necessary libraries\n",
    "import pandas as pd\n",
    "pd.set_option('display.max_colwidth', 100)"
   ]
  },
  {
   "cell_type": "code",
   "execution_count": 6,
   "id": "f5a30989",
   "metadata": {},
   "outputs": [
    {
     "data": {
      "text/plain": [
       "(8, 2)"
      ]
     },
     "execution_count": 6,
     "metadata": {},
     "output_type": "execute_result"
    }
   ],
   "source": [
    "df = pd.read_csv(\"sample_text.csv\")\n",
    "df.shape"
   ]
  },
  {
   "cell_type": "code",
   "execution_count": 13,
   "id": "b72e2ecb",
   "metadata": {
    "scrolled": true
   },
   "outputs": [
    {
     "data": {
      "text/html": [
       "<div>\n",
       "<style scoped>\n",
       "    .dataframe tbody tr th:only-of-type {\n",
       "        vertical-align: middle;\n",
       "    }\n",
       "\n",
       "    .dataframe tbody tr th {\n",
       "        vertical-align: top;\n",
       "    }\n",
       "\n",
       "    .dataframe thead th {\n",
       "        text-align: right;\n",
       "    }\n",
       "</style>\n",
       "<table border=\"1\" class=\"dataframe\">\n",
       "  <thead>\n",
       "    <tr style=\"text-align: right;\">\n",
       "      <th></th>\n",
       "      <th>text</th>\n",
       "      <th>category</th>\n",
       "    </tr>\n",
       "  </thead>\n",
       "  <tbody>\n",
       "    <tr>\n",
       "      <th>0</th>\n",
       "      <td>Meditation and yoga can improve mental health</td>\n",
       "      <td>Health</td>\n",
       "    </tr>\n",
       "    <tr>\n",
       "      <th>1</th>\n",
       "      <td>Fruits, whole grains and vegetables helps control blood pressure</td>\n",
       "      <td>Health</td>\n",
       "    </tr>\n",
       "    <tr>\n",
       "      <th>2</th>\n",
       "      <td>These are the latest fashion trends for this week</td>\n",
       "      <td>Fashion</td>\n",
       "    </tr>\n",
       "    <tr>\n",
       "      <th>3</th>\n",
       "      <td>Vibrant color jeans for male are becoming a trend</td>\n",
       "      <td>Fashion</td>\n",
       "    </tr>\n",
       "    <tr>\n",
       "      <th>4</th>\n",
       "      <td>The concert starts at 7 PM tonight</td>\n",
       "      <td>Event</td>\n",
       "    </tr>\n",
       "    <tr>\n",
       "      <th>5</th>\n",
       "      <td>Navaratri dandiya program at Expo center in Mumbai this october</td>\n",
       "      <td>Event</td>\n",
       "    </tr>\n",
       "    <tr>\n",
       "      <th>6</th>\n",
       "      <td>Exciting vacation destinations for your next trip</td>\n",
       "      <td>Travel</td>\n",
       "    </tr>\n",
       "    <tr>\n",
       "      <th>7</th>\n",
       "      <td>Maldives and Srilanka are gaining popularity in terms of low budget vacation places</td>\n",
       "      <td>Travel</td>\n",
       "    </tr>\n",
       "  </tbody>\n",
       "</table>\n",
       "</div>"
      ],
      "text/plain": [
       "                                                                                  text  \\\n",
       "0                                        Meditation and yoga can improve mental health   \n",
       "1                     Fruits, whole grains and vegetables helps control blood pressure   \n",
       "2                                    These are the latest fashion trends for this week   \n",
       "3                                    Vibrant color jeans for male are becoming a trend   \n",
       "4                                                   The concert starts at 7 PM tonight   \n",
       "5                      Navaratri dandiya program at Expo center in Mumbai this october   \n",
       "6                                    Exciting vacation destinations for your next trip   \n",
       "7  Maldives and Srilanka are gaining popularity in terms of low budget vacation places   \n",
       "\n",
       "  category  \n",
       "0   Health  \n",
       "1   Health  \n",
       "2  Fashion  \n",
       "3  Fashion  \n",
       "4    Event  \n",
       "5    Event  \n",
       "6   Travel  \n",
       "7   Travel  "
      ]
     },
     "execution_count": 13,
     "metadata": {},
     "output_type": "execute_result"
    }
   ],
   "source": [
    "df"
   ]
  },
  {
   "cell_type": "markdown",
   "id": "2d935944",
   "metadata": {},
   "source": [
    "### Step 1 : Create source embeddings for the text column"
   ]
  },
  {
   "cell_type": "code",
   "execution_count": 29,
   "id": "cd04834b",
   "metadata": {},
   "outputs": [
    {
     "name": "stderr",
     "output_type": "stream",
     "text": [
      "C:\\Users\\durge\\anaconda3\\Lib\\site-packages\\transformers\\tokenization_utils_base.py:1601: FutureWarning: `clean_up_tokenization_spaces` was not set. It will be set to `True` by default. This behavior will be depracted in transformers v4.45, and will be then set to `False` by default. For more details check this issue: https://github.com/huggingface/transformers/issues/31884\n",
      "  warnings.warn(\n"
     ]
    },
    {
     "data": {
      "text/plain": [
       "(8, 768)"
      ]
     },
     "execution_count": 29,
     "metadata": {},
     "output_type": "execute_result"
    }
   ],
   "source": [
    "from sentence_transformers import SentenceTransformer\n",
    "encoder = SentenceTransformer(\"all-mpnet-base-v2\")\n",
    "vectors = encoder.encode(df.text)\n",
    "vectors.shape"
   ]
  },
  {
   "cell_type": "code",
   "execution_count": 31,
   "id": "8e5c7da8",
   "metadata": {},
   "outputs": [
    {
     "data": {
      "text/plain": [
       "768"
      ]
     },
     "execution_count": 31,
     "metadata": {},
     "output_type": "execute_result"
    }
   ],
   "source": [
    "dim = vectors.shape[1]\n",
    "dim"
   ]
  },
  {
   "cell_type": "markdown",
   "id": "149e6b32",
   "metadata": {},
   "source": [
    "### Step 2 : Build a FAISS Index for vectors"
   ]
  },
  {
   "cell_type": "code",
   "execution_count": 36,
   "id": "1033b6bd",
   "metadata": {},
   "outputs": [],
   "source": [
    "import faiss\n",
    "\n",
    "index = faiss.IndexFlatL2(dim)"
   ]
  },
  {
   "cell_type": "markdown",
   "id": "76ad509d",
   "metadata": {},
   "source": [
    "### Step 3 : Normalize the source vectors (as we are using L2 distance to measure similarity) and add to the index"
   ]
  },
  {
   "cell_type": "code",
   "execution_count": 39,
   "id": "90b527fc",
   "metadata": {},
   "outputs": [],
   "source": [
    "index.add(vectors)"
   ]
  },
  {
   "cell_type": "code",
   "execution_count": 41,
   "id": "7ac0b8ef",
   "metadata": {},
   "outputs": [
    {
     "data": {
      "text/plain": [
       "<faiss.swigfaiss_avx2.IndexFlatL2; proxy of <Swig Object of type 'faiss::IndexFlatL2 *' at 0x00000208828277E0> >"
      ]
     },
     "execution_count": 41,
     "metadata": {},
     "output_type": "execute_result"
    }
   ],
   "source": [
    "index"
   ]
  },
  {
   "cell_type": "markdown",
   "id": "6c42234c",
   "metadata": {},
   "source": [
    "### Step 4 : Encode search text using same encorder and normalize the output vector"
   ]
  },
  {
   "cell_type": "code",
   "execution_count": 53,
   "id": "018faf33",
   "metadata": {},
   "outputs": [
    {
     "data": {
      "text/plain": [
       "(768,)"
      ]
     },
     "execution_count": 53,
     "metadata": {},
     "output_type": "execute_result"
    }
   ],
   "source": [
    "search_query = \"I want to buy a polo t-shirt\"\n",
    "# search_query = \"looking for places to visit during the holidays\"\n",
    "# search_query = \"An apple a day keeps the doctor away\"\n",
    "vec = encoder.encode(search_query)\n",
    "vec.shape"
   ]
  },
  {
   "cell_type": "code",
   "execution_count": 55,
   "id": "af05bce3",
   "metadata": {},
   "outputs": [
    {
     "data": {
      "text/plain": [
       "(1, 768)"
      ]
     },
     "execution_count": 55,
     "metadata": {},
     "output_type": "execute_result"
    }
   ],
   "source": [
    "import numpy as np\n",
    "svec = np.array(vec).reshape(1,-1)\n",
    "svec.shape"
   ]
  },
  {
   "cell_type": "code",
   "execution_count": 57,
   "id": "84275adf",
   "metadata": {},
   "outputs": [],
   "source": [
    "# faiss.normalize_L2(svec)"
   ]
  },
  {
   "cell_type": "markdown",
   "id": "90c0cdd8",
   "metadata": {},
   "source": [
    "### Step 5: Search for similar vector in the FAISS index created"
   ]
  },
  {
   "cell_type": "code",
   "execution_count": 74,
   "id": "3d5a0e69",
   "metadata": {
    "scrolled": true
   },
   "outputs": [
    {
     "data": {
      "text/plain": [
       "array([[1.384484 , 1.4039094]], dtype=float32)"
      ]
     },
     "execution_count": 74,
     "metadata": {},
     "output_type": "execute_result"
    }
   ],
   "source": [
    "distances, I = index.search(svec, k=2)\n",
    "distances"
   ]
  },
  {
   "cell_type": "code",
   "execution_count": 76,
   "id": "7ef978ca",
   "metadata": {},
   "outputs": [
    {
     "data": {
      "text/plain": [
       "array([[3, 2]], dtype=int64)"
      ]
     },
     "execution_count": 76,
     "metadata": {},
     "output_type": "execute_result"
    }
   ],
   "source": [
    "I"
   ]
  },
  {
   "cell_type": "code",
   "execution_count": 78,
   "id": "e2fceefd",
   "metadata": {},
   "outputs": [
    {
     "data": {
      "text/plain": [
       "[[3, 2]]"
      ]
     },
     "execution_count": 78,
     "metadata": {},
     "output_type": "execute_result"
    }
   ],
   "source": [
    "I.tolist()"
   ]
  },
  {
   "cell_type": "code",
   "execution_count": 80,
   "id": "68f88083",
   "metadata": {},
   "outputs": [
    {
     "data": {
      "text/plain": [
       "[3, 2]"
      ]
     },
     "execution_count": 80,
     "metadata": {},
     "output_type": "execute_result"
    }
   ],
   "source": [
    "row_indices = I.tolist()[0]\n",
    "row_indices"
   ]
  },
  {
   "cell_type": "code",
   "execution_count": 82,
   "id": "d856895d",
   "metadata": {
    "scrolled": true
   },
   "outputs": [
    {
     "data": {
      "text/html": [
       "<div>\n",
       "<style scoped>\n",
       "    .dataframe tbody tr th:only-of-type {\n",
       "        vertical-align: middle;\n",
       "    }\n",
       "\n",
       "    .dataframe tbody tr th {\n",
       "        vertical-align: top;\n",
       "    }\n",
       "\n",
       "    .dataframe thead th {\n",
       "        text-align: right;\n",
       "    }\n",
       "</style>\n",
       "<table border=\"1\" class=\"dataframe\">\n",
       "  <thead>\n",
       "    <tr style=\"text-align: right;\">\n",
       "      <th></th>\n",
       "      <th>text</th>\n",
       "      <th>category</th>\n",
       "    </tr>\n",
       "  </thead>\n",
       "  <tbody>\n",
       "    <tr>\n",
       "      <th>3</th>\n",
       "      <td>Vibrant color jeans for male are becoming a trend</td>\n",
       "      <td>Fashion</td>\n",
       "    </tr>\n",
       "    <tr>\n",
       "      <th>2</th>\n",
       "      <td>These are the latest fashion trends for this week</td>\n",
       "      <td>Fashion</td>\n",
       "    </tr>\n",
       "  </tbody>\n",
       "</table>\n",
       "</div>"
      ],
      "text/plain": [
       "                                                text category\n",
       "3  Vibrant color jeans for male are becoming a trend  Fashion\n",
       "2  These are the latest fashion trends for this week  Fashion"
      ]
     },
     "execution_count": 82,
     "metadata": {},
     "output_type": "execute_result"
    }
   ],
   "source": [
    "df.loc[row_indices]"
   ]
  },
  {
   "cell_type": "code",
   "execution_count": 84,
   "id": "b65050a9",
   "metadata": {},
   "outputs": [
    {
     "data": {
      "text/plain": [
       "'I want to buy a polo t-shirt'"
      ]
     },
     "execution_count": 84,
     "metadata": {},
     "output_type": "execute_result"
    }
   ],
   "source": [
    "search_query"
   ]
  },
  {
   "cell_type": "markdown",
   "id": "e066c78d",
   "metadata": {},
   "source": [
    "You can see that the two results from the dataframe are similar to a search_query"
   ]
  }
 ],
 "metadata": {
  "kernelspec": {
   "display_name": "Python 3 (ipykernel)",
   "language": "python",
   "name": "python3"
  },
  "language_info": {
   "codemirror_mode": {
    "name": "ipython",
    "version": 3
   },
   "file_extension": ".py",
   "mimetype": "text/x-python",
   "name": "python",
   "nbconvert_exporter": "python",
   "pygments_lexer": "ipython3",
   "version": "3.12.4"
  }
 },
 "nbformat": 4,
 "nbformat_minor": 5
}
