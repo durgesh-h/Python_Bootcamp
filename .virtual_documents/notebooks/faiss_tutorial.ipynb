#Install Packages
!pip install faiss-cpu
!pip install sentence-transformers


# import necessary libraries
import pandas as pd
pd.set_option('display.max_colwidth', 100)


df = pd.read_csv("sample_text.csv")
df.shape


df





from sentence_transformers import SentenceTransformer
encoder = SentenceTransformer("all-mpnet-base-v2")
vectors = encoder.encode(df.text)
vectors.shape


dim = vectors.shape[1]
dim





import faiss

index = faiss.IndexFlatL2(dim)





index.add(vectors)


index





search_query = "I want to buy a polo t-shirt"
# search_query = "looking for places to visit during the holidays"
# search_query = "An apple a day keeps the doctor away"
vec = encoder.encode(search_query)
vec.shape


import numpy as np
svec = np.array(vec).reshape(1,-1)
svec.shape


# faiss.normalize_L2(svec)





distances, I = index.search(svec, k=2)
distances


I


I.tolist()


row_indices = I.tolist()[0]
row_indices


df.loc[row_indices]


search_query



